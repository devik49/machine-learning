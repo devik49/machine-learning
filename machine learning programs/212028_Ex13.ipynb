{
 "cells": [
  {
   "cell_type": "markdown",
   "id": "63818127",
   "metadata": {},
   "source": [
    "### REGISTER NO: 212028\n",
    "### DATE: 12 - 2 - 2023\n",
    "### PROGRAM TITLE: \n",
    "#### Write a Python program to demonstrate the application of EM algorithm where the probability of getting head for 2 coins are to be obtained. (Given 2 coin are tossed 10 times for 5 rounds)"
   ]
  },
  {
   "cell_type": "code",
   "execution_count": 1,
   "id": "5e6619ea",
   "metadata": {},
   "outputs": [],
   "source": [
    "import numpy as np"
   ]
  },
  {
   "cell_type": "code",
   "execution_count": 2,
   "id": "e77b344f",
   "metadata": {},
   "outputs": [],
   "source": [
    "xs = np.array([(5,5),(9,1),(4,6),(7,3)])\n",
    "theta = np.array([[0.6,0.4],[0.5,0.5]])"
   ]
  },
  {
   "cell_type": "code",
   "execution_count": 3,
   "id": "798856b1",
   "metadata": {},
   "outputs": [],
   "source": [
    "tol = 0.01\n",
    "max_iter = 100\n",
    "l1_old = 0"
   ]
  },
  {
   "cell_type": "code",
   "execution_count": 4,
   "id": "4e976f23",
   "metadata": {},
   "outputs": [
    {
     "name": "stdout",
     "output_type": "stream",
     "text": [
      "Iteration: 1\n",
      "theta_A = 0.68 theta_B = 0.55 ll = -26.5\n",
      "Iteration: 2\n",
      "theta_A = 0.72 theta_B = 0.53 ll = -25.78\n",
      "Iteration: 3\n",
      "theta_A = 0.74 theta_B = 0.51 ll = -25.35\n",
      "Iteration: 4\n",
      "theta_A = 0.76 theta_B = 0.5 ll = -24.98\n",
      "Iteration: 5\n",
      "theta_A = 0.78 theta_B = 0.5 ll = -24.74\n",
      "Iteration: 6\n",
      "theta_A = 0.78 theta_B = 0.49 ll = -24.63\n",
      "Iteration: 7\n",
      "theta_A = 0.79 theta_B = 0.49 ll = -24.57\n",
      "Iteration: 8\n",
      "theta_A = 0.79 theta_B = 0.49 ll = -24.55\n",
      "Iteration: 9\n",
      "theta_A = 0.79 theta_B = 0.49 ll = -24.54\n",
      "Iteration: 10\n",
      "theta_A = 0.79 theta_B = 0.49 ll = -24.53\n"
     ]
    }
   ],
   "source": [
    "for i in range(max_iter):\n",
    "    ws_A = []; ws_B = []; vs_A = []; vs_B = []; l1_new = 0\n",
    "    for x in xs:\n",
    "        l1_A = np.sum([x*np.log(theta[0])])\n",
    "        l1_B = np.sum([x*np.log(theta[1])])\n",
    "        denom = np.exp(l1_A) + np.exp(l1_B)\n",
    "        \n",
    "        w_A = np.exp(l1_A)/denom\n",
    "        w_B = np.exp(l1_B)/denom\n",
    "        \n",
    "        ws_A.append(w_A)\n",
    "        ws_B.append(w_B)\n",
    "        \n",
    "        vs_A.append(np.dot(w_A,x))\n",
    "        vs_B.append(np.dot(w_B,x))\n",
    "        \n",
    "        l1_new = l1_new + (w_A * l1_A) + (w_B * l1_B)\n",
    "    theta[0] = np.sum(vs_A, 0)/np.sum(vs_A)\n",
    "    theta[1] = np.sum(vs_B, 0)/np.sum(vs_B)\n",
    "    \n",
    "    print(\"Iteration:\",(i+1))\n",
    "    print(\"theta_A =\",round(theta[0,0],2),\"theta_B =\",round(theta[1,0],2),\"ll =\",round(l1_new,2))\n",
    "    \n",
    "    if np.abs(l1_new - l1_old) < tol:\n",
    "        break\n",
    "    l1_old = l1_new"
   ]
  }
 ],
 "metadata": {
  "kernelspec": {
   "display_name": "Python 3 (ipykernel)",
   "language": "python",
   "name": "python3"
  },
  "language_info": {
   "codemirror_mode": {
    "name": "ipython",
    "version": 3
   },
   "file_extension": ".py",
   "mimetype": "text/x-python",
   "name": "python",
   "nbconvert_exporter": "python",
   "pygments_lexer": "ipython3",
   "version": "3.9.12"
  }
 },
 "nbformat": 4,
 "nbformat_minor": 5
}
