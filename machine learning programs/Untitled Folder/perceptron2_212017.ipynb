{
 "cells": [
  {
   "cell_type": "markdown",
   "id": "ed9a63f1",
   "metadata": {},
   "source": [
    "### REGISTER NO: 212008"
   ]
  },
  {
   "cell_type": "markdown",
   "id": "e6d75b9a",
   "metadata": {},
   "source": [
    "### PROGRAM TITLE:\n",
    "###  Implement Perceptron algorithm with epoch from 10 to 50 for the digit dataset. At which epoch, the best result is obtained?"
   ]
  },
  {
   "cell_type": "code",
   "execution_count": 2,
   "id": "7b023992",
   "metadata": {},
   "outputs": [
    {
     "name": "stdout",
     "output_type": "stream",
     "text": [
      "Best accuracy: 0.9555555555555556\n",
      "Best epoch: 16\n"
     ]
    }
   ],
   "source": [
    "import numpy as np\n",
    "from sklearn.datasets import load_digits\n",
    "from sklearn.model_selection import train_test_split\n",
    "from sklearn.linear_model import Perceptron\n",
    "from sklearn.metrics import accuracy_score\n",
    "\n",
    "import warnings\n",
    "warnings.filterwarnings(\"ignore\")\n",
    "\n",
    "# Load the digit dataset\n",
    "digits = load_digits()\n",
    "X, y = digits.data, digits.target\n",
    "\n",
    "# Split the data into training and test sets\n",
    "X_train, X_test, y_train, y_test = train_test_split(X, y, test_size=0.2, random_state=0)\n",
    "\n",
    "# Initialize the list to store the accuracy for each epoch\n",
    "accuracies = []\n",
    "\n",
    "# Loop over the different epochs\n",
    "for epoch in range(10, 51):\n",
    "    # Initialize the Perceptron classifier\n",
    "    clf = Perceptron(max_iter=epoch, tol=1e-3, random_state=0)\n",
    "    \n",
    "    # Fit the model to the training data\n",
    "    clf.fit(X_train, y_train)\n",
    "    \n",
    "    # Predict the labels on the test data\n",
    "    y_pred = clf.predict(X_test)\n",
    "    \n",
    "    # Compute the accuracy on the test data\n",
    "    acc = accuracy_score(y_test, y_pred)\n",
    "    \n",
    "    # Add the accuracy to the list\n",
    "    accuracies.append(acc)\n",
    "    \n",
    "# Find the index of the best accuracy\n",
    "best_index = np.argmax(accuracies)\n",
    "\n",
    "# Print the best accuracy and the corresponding epoch\n",
    "print(\"Best accuracy:\", accuracies[best_index])\n",
    "print(\"Best epoch:\", best_index + 10)"
   ]
  },
  {
   "cell_type": "code",
   "execution_count": null,
   "id": "88264032",
   "metadata": {},
   "outputs": [],
   "source": []
  }
 ],
 "metadata": {
  "kernelspec": {
   "display_name": "Python 3 (ipykernel)",
   "language": "python",
   "name": "python3"
  },
  "language_info": {
   "codemirror_mode": {
    "name": "ipython",
    "version": 3
   },
   "file_extension": ".py",
   "mimetype": "text/x-python",
   "name": "python",
   "nbconvert_exporter": "python",
   "pygments_lexer": "ipython3",
   "version": "3.9.12"
  }
 },
 "nbformat": 4,
 "nbformat_minor": 5
}
