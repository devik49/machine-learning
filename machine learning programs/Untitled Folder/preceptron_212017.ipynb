{
 "cells": [
  {
   "cell_type": "markdown",
   "id": "83ae0995",
   "metadata": {},
   "source": [
    "### REGISTER NO: 212008"
   ]
  },
  {
   "cell_type": "markdown",
   "id": "652674da",
   "metadata": {},
   "source": [
    "### PROGRAM TITLE:\n",
    "### Compare stochastic gradient descent with “hinge” and “Perceptron” as loss function and calculate also the performance measures of both."
   ]
  },
  {
   "cell_type": "code",
   "execution_count": 40,
   "id": "7f985e5c",
   "metadata": {},
   "outputs": [],
   "source": [
    "import pandas as pd\n",
    "from sklearn.metrics import ConfusionMatrixDisplay,accuracy_score,confusion_matrix,classification_report,roc_auc_score,roc_curve\n",
    "from sklearn.datasets import load_iris"
   ]
  },
  {
   "cell_type": "code",
   "execution_count": 41,
   "id": "d957b1dc",
   "metadata": {},
   "outputs": [],
   "source": [
    "import warnings\n",
    "warnings.filterwarnings(\"ignore\")"
   ]
  },
  {
   "cell_type": "code",
   "execution_count": 42,
   "id": "f3133eb2",
   "metadata": {},
   "outputs": [],
   "source": [
    "data = load_iris()"
   ]
  },
  {
   "cell_type": "code",
   "execution_count": 43,
   "id": "8b9099f8",
   "metadata": {},
   "outputs": [
    {
     "data": {
      "text/html": [
       "<div>\n",
       "<style scoped>\n",
       "    .dataframe tbody tr th:only-of-type {\n",
       "        vertical-align: middle;\n",
       "    }\n",
       "\n",
       "    .dataframe tbody tr th {\n",
       "        vertical-align: top;\n",
       "    }\n",
       "\n",
       "    .dataframe thead th {\n",
       "        text-align: right;\n",
       "    }\n",
       "</style>\n",
       "<table border=\"1\" class=\"dataframe\">\n",
       "  <thead>\n",
       "    <tr style=\"text-align: right;\">\n",
       "      <th></th>\n",
       "      <th>sepal length (cm)</th>\n",
       "      <th>sepal width (cm)</th>\n",
       "      <th>petal length (cm)</th>\n",
       "      <th>petal width (cm)</th>\n",
       "    </tr>\n",
       "  </thead>\n",
       "  <tbody>\n",
       "    <tr>\n",
       "      <th>0</th>\n",
       "      <td>5.1</td>\n",
       "      <td>3.5</td>\n",
       "      <td>1.4</td>\n",
       "      <td>0.2</td>\n",
       "    </tr>\n",
       "    <tr>\n",
       "      <th>1</th>\n",
       "      <td>4.9</td>\n",
       "      <td>3.0</td>\n",
       "      <td>1.4</td>\n",
       "      <td>0.2</td>\n",
       "    </tr>\n",
       "    <tr>\n",
       "      <th>2</th>\n",
       "      <td>4.7</td>\n",
       "      <td>3.2</td>\n",
       "      <td>1.3</td>\n",
       "      <td>0.2</td>\n",
       "    </tr>\n",
       "    <tr>\n",
       "      <th>3</th>\n",
       "      <td>4.6</td>\n",
       "      <td>3.1</td>\n",
       "      <td>1.5</td>\n",
       "      <td>0.2</td>\n",
       "    </tr>\n",
       "    <tr>\n",
       "      <th>4</th>\n",
       "      <td>5.0</td>\n",
       "      <td>3.6</td>\n",
       "      <td>1.4</td>\n",
       "      <td>0.2</td>\n",
       "    </tr>\n",
       "  </tbody>\n",
       "</table>\n",
       "</div>"
      ],
      "text/plain": [
       "   sepal length (cm)  sepal width (cm)  petal length (cm)  petal width (cm)\n",
       "0                5.1               3.5                1.4               0.2\n",
       "1                4.9               3.0                1.4               0.2\n",
       "2                4.7               3.2                1.3               0.2\n",
       "3                4.6               3.1                1.5               0.2\n",
       "4                5.0               3.6                1.4               0.2"
      ]
     },
     "execution_count": 43,
     "metadata": {},
     "output_type": "execute_result"
    }
   ],
   "source": [
    "x = pd.DataFrame(data['data'],columns = data['feature_names'])\n",
    "x.head()"
   ]
  },
  {
   "cell_type": "code",
   "execution_count": 44,
   "id": "a16dd810",
   "metadata": {},
   "outputs": [
    {
     "name": "stdout",
     "output_type": "stream",
     "text": [
      "Target : \n",
      " [0 0 0 0 0 0 0 0 0 0 0 0 0 0 0 0 0 0 0 0 0 0 0 0 0 0 0 0 0 0 0 0 0 0 0 0 0\n",
      " 0 0 0 0 0 0 0 0 0 0 0 0 0 1 1 1 1 1 1 1 1 1 1 1 1 1 1 1 1 1 1 1 1 1 1 1 1\n",
      " 1 1 1 1 1 1 1 1 1 1 1 1 1 1 1 1 1 1 1 1 1 1 1 1 1 1 2 2 2 2 2 2 2 2 2 2 2\n",
      " 2 2 2 2 2 2 2 2 2 2 2 2 2 2 2 2 2 2 2 2 2 2 2 2 2 2 2 2 2 2 2 2 2 2 2 2 2\n",
      " 2 2]\n"
     ]
    }
   ],
   "source": [
    "y = data['target']\n",
    "print(\"Target : \\n\",y)"
   ]
  },
  {
   "cell_type": "code",
   "execution_count": 45,
   "id": "5e4a77e9",
   "metadata": {},
   "outputs": [],
   "source": [
    "from sklearn.model_selection import train_test_split\n",
    "x_train,x_test,y_train,y_test = train_test_split(x,y,test_size = 0.2,random_state = 1)"
   ]
  },
  {
   "cell_type": "code",
   "execution_count": 46,
   "id": "7f10c2a3",
   "metadata": {},
   "outputs": [
    {
     "name": "stdout",
     "output_type": "stream",
     "text": [
      "Accuracy using SGD Classifier\n",
      " 0.8333333333333334\n"
     ]
    }
   ],
   "source": [
    "## Stochastic gradient descent with “hinge” as loss function \n",
    "from sklearn.linear_model import SGDClassifier\n",
    "clf1 = SGDClassifier(loss = \"hinge\",penalty = \"l2\",max_iter = 5)\n",
    "clf1.fit(x_train,y_train)\n",
    "y_pred1 = clf1.predict(x_test)\n",
    "print(\"Accuracy using SGD Classifier\\n\",clf1.score(x_test,y_test))"
   ]
  },
  {
   "cell_type": "code",
   "execution_count": 47,
   "id": "b7038360",
   "metadata": {},
   "outputs": [
    {
     "name": "stdout",
     "output_type": "stream",
     "text": [
      "f1_score :  0.822808833678399\n",
      "precision_score :  0.8388888888888889\n",
      "recall_score :  0.8717948717948718\n",
      "Classification_report :\n",
      "               precision    recall  f1-score   support\n",
      "\n",
      "           0       0.92      1.00      0.96        11\n",
      "           1       1.00      0.62      0.76        13\n",
      "           2       0.60      1.00      0.75         6\n",
      "\n",
      "    accuracy                           0.83        30\n",
      "   macro avg       0.84      0.87      0.82        30\n",
      "weighted avg       0.89      0.83      0.83        30\n",
      "\n"
     ]
    }
   ],
   "source": [
    "from sklearn.metrics import precision_score,recall_score,classification_report,accuracy_score,f1_score\n",
    "print(\"f1_score : \",f1_score(y_test,y_pred1,average = \"macro\"))\n",
    "print(\"precision_score : \",precision_score(y_test,y_pred1,average = \"macro\"))\n",
    "print(\"recall_score : \",recall_score(y_test,y_pred1,average = \"macro\"))\n",
    "print(\"Classification_report :\\n\",classification_report(y_test,y_pred1))"
   ]
  },
  {
   "cell_type": "code",
   "execution_count": 48,
   "id": "02b42dee",
   "metadata": {},
   "outputs": [
    {
     "name": "stdout",
     "output_type": "stream",
     "text": [
      "Accuracy using SGD Classifier\n",
      " 0.5666666666666667\n"
     ]
    }
   ],
   "source": [
    "## Stochastic gradient descent with “Perceptron” as loss function \n",
    "from sklearn.linear_model import SGDClassifier\n",
    "clf2 = SGDClassifier(loss = \"perceptron\",penalty = \"l2\",max_iter = 5)\n",
    "clf2.fit(x_train,y_train)\n",
    "y_pred2 = clf2.predict(x_test)\n",
    "print(\"Accuracy using SGD Classifier\\n\",clf2.score(x_test,y_test))"
   ]
  },
  {
   "cell_type": "code",
   "execution_count": 49,
   "id": "ea3ad952",
   "metadata": {},
   "outputs": [
    {
     "name": "stdout",
     "output_type": "stream",
     "text": [
      "f1_score :  0.4724310776942356\n",
      "precision_score :  0.3695324283559578\n",
      "recall_score :  0.6666666666666666\n",
      "Classification_report :\n",
      "               precision    recall  f1-score   support\n",
      "\n",
      "           0       0.65      1.00      0.79        11\n",
      "           1       0.00      0.00      0.00        13\n",
      "           2       0.46      1.00      0.63         6\n",
      "\n",
      "    accuracy                           0.57        30\n",
      "   macro avg       0.37      0.67      0.47        30\n",
      "weighted avg       0.33      0.57      0.41        30\n",
      "\n"
     ]
    }
   ],
   "source": [
    "from sklearn.metrics import precision_score,recall_score,classification_report,accuracy_score,f1_score\n",
    "print(\"f1_score : \",f1_score(y_test,y_pred2,average = \"macro\"))\n",
    "print(\"precision_score : \",precision_score(y_test,y_pred2,average = \"macro\"))\n",
    "print(\"recall_score : \",recall_score(y_test,y_pred2,average = \"macro\"))\n",
    "print(\"Classification_report :\\n\",classification_report(y_test,y_pred2))"
   ]
  },
  {
   "cell_type": "code",
   "execution_count": null,
   "id": "82a46bfc",
   "metadata": {},
   "outputs": [],
   "source": []
  },
  {
   "cell_type": "code",
   "execution_count": null,
   "id": "cca2fc8f",
   "metadata": {},
   "outputs": [],
   "source": []
  }
 ],
 "metadata": {
  "kernelspec": {
   "display_name": "Python 3 (ipykernel)",
   "language": "python",
   "name": "python3"
  },
  "language_info": {
   "codemirror_mode": {
    "name": "ipython",
    "version": 3
   },
   "file_extension": ".py",
   "mimetype": "text/x-python",
   "name": "python",
   "nbconvert_exporter": "python",
   "pygments_lexer": "ipython3",
   "version": "3.9.12"
  }
 },
 "nbformat": 4,
 "nbformat_minor": 5
}
