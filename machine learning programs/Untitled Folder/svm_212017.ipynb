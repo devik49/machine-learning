{
 "cells": [
  {
   "cell_type": "markdown",
   "id": "7331c4a2",
   "metadata": {},
   "source": [
    "###  REGISTER NO: 212008"
   ]
  },
  {
   "cell_type": "markdown",
   "id": "30516b7c",
   "metadata": {},
   "source": [
    "### PROGRAM TITLE:\n",
    "### Train SVM classifier using sklearn for your dataset and\n",
    " a. Measure accuracy of your model using different kernels such as linear, RBF and polynomial.\n",
    " b. Tune your model further using regularization and gamma parameters and try to come up with highest accuracy score.\n",
    " c. Use 80% of samples as training data size."
   ]
  },
  {
   "cell_type": "code",
   "execution_count": 8,
   "id": "e7f99327",
   "metadata": {},
   "outputs": [],
   "source": [
    "import pandas as pd\n",
    "from sklearn.datasets import load_iris"
   ]
  },
  {
   "cell_type": "code",
   "execution_count": 9,
   "id": "2efadd51",
   "metadata": {},
   "outputs": [],
   "source": [
    "import warnings\n",
    "warnings.filterwarnings(\"ignore\")"
   ]
  },
  {
   "cell_type": "code",
   "execution_count": 10,
   "id": "d370f39d",
   "metadata": {},
   "outputs": [
    {
     "data": {
      "text/plain": [
       "dict_keys(['data', 'target', 'frame', 'target_names', 'DESCR', 'feature_names', 'filename', 'data_module'])"
      ]
     },
     "execution_count": 10,
     "metadata": {},
     "output_type": "execute_result"
    }
   ],
   "source": [
    "data = load_iris()\n",
    "data.keys()"
   ]
  },
  {
   "cell_type": "code",
   "execution_count": 11,
   "id": "81f47a2f",
   "metadata": {},
   "outputs": [
    {
     "data": {
      "text/html": [
       "<div>\n",
       "<style scoped>\n",
       "    .dataframe tbody tr th:only-of-type {\n",
       "        vertical-align: middle;\n",
       "    }\n",
       "\n",
       "    .dataframe tbody tr th {\n",
       "        vertical-align: top;\n",
       "    }\n",
       "\n",
       "    .dataframe thead th {\n",
       "        text-align: right;\n",
       "    }\n",
       "</style>\n",
       "<table border=\"1\" class=\"dataframe\">\n",
       "  <thead>\n",
       "    <tr style=\"text-align: right;\">\n",
       "      <th></th>\n",
       "      <th>sepal length (cm)</th>\n",
       "      <th>sepal width (cm)</th>\n",
       "      <th>petal length (cm)</th>\n",
       "      <th>petal width (cm)</th>\n",
       "    </tr>\n",
       "  </thead>\n",
       "  <tbody>\n",
       "    <tr>\n",
       "      <th>0</th>\n",
       "      <td>5.1</td>\n",
       "      <td>3.5</td>\n",
       "      <td>1.4</td>\n",
       "      <td>0.2</td>\n",
       "    </tr>\n",
       "    <tr>\n",
       "      <th>1</th>\n",
       "      <td>4.9</td>\n",
       "      <td>3.0</td>\n",
       "      <td>1.4</td>\n",
       "      <td>0.2</td>\n",
       "    </tr>\n",
       "    <tr>\n",
       "      <th>2</th>\n",
       "      <td>4.7</td>\n",
       "      <td>3.2</td>\n",
       "      <td>1.3</td>\n",
       "      <td>0.2</td>\n",
       "    </tr>\n",
       "    <tr>\n",
       "      <th>3</th>\n",
       "      <td>4.6</td>\n",
       "      <td>3.1</td>\n",
       "      <td>1.5</td>\n",
       "      <td>0.2</td>\n",
       "    </tr>\n",
       "    <tr>\n",
       "      <th>4</th>\n",
       "      <td>5.0</td>\n",
       "      <td>3.6</td>\n",
       "      <td>1.4</td>\n",
       "      <td>0.2</td>\n",
       "    </tr>\n",
       "  </tbody>\n",
       "</table>\n",
       "</div>"
      ],
      "text/plain": [
       "   sepal length (cm)  sepal width (cm)  petal length (cm)  petal width (cm)\n",
       "0                5.1               3.5                1.4               0.2\n",
       "1                4.9               3.0                1.4               0.2\n",
       "2                4.7               3.2                1.3               0.2\n",
       "3                4.6               3.1                1.5               0.2\n",
       "4                5.0               3.6                1.4               0.2"
      ]
     },
     "execution_count": 11,
     "metadata": {},
     "output_type": "execute_result"
    }
   ],
   "source": [
    "x = pd.DataFrame(data['data'],columns = data['feature_names'])\n",
    "x.head()"
   ]
  },
  {
   "cell_type": "code",
   "execution_count": 12,
   "id": "beb750b4",
   "metadata": {},
   "outputs": [
    {
     "name": "stdout",
     "output_type": "stream",
     "text": [
      "Target : \n",
      " [0 0 0 0 0 0 0 0 0 0 0 0 0 0 0 0 0 0 0 0 0 0 0 0 0 0 0 0 0 0 0 0 0 0 0 0 0\n",
      " 0 0 0 0 0 0 0 0 0 0 0 0 0 1 1 1 1 1 1 1 1 1 1 1 1 1 1 1 1 1 1 1 1 1 1 1 1\n",
      " 1 1 1 1 1 1 1 1 1 1 1 1 1 1 1 1 1 1 1 1 1 1 1 1 1 1 2 2 2 2 2 2 2 2 2 2 2\n",
      " 2 2 2 2 2 2 2 2 2 2 2 2 2 2 2 2 2 2 2 2 2 2 2 2 2 2 2 2 2 2 2 2 2 2 2 2 2\n",
      " 2 2]\n"
     ]
    }
   ],
   "source": [
    "y = data['target']\n",
    "print(\"Target : \\n\",y)"
   ]
  },
  {
   "cell_type": "code",
   "execution_count": 13,
   "id": "737e3b1b",
   "metadata": {},
   "outputs": [],
   "source": [
    "from sklearn.model_selection import train_test_split\n",
    "x_train,x_test,y_train,y_test = train_test_split(x,y,test_size = 0.2,random_state = 1)"
   ]
  },
  {
   "cell_type": "code",
   "execution_count": 14,
   "id": "0b93085b",
   "metadata": {},
   "outputs": [
    {
     "name": "stdout",
     "output_type": "stream",
     "text": [
      "Accuracy using linear model is  0.9800000000000001\n"
     ]
    }
   ],
   "source": [
    "from sklearn import svm\n",
    "from sklearn.model_selection import cross_val_score\n",
    "clf = svm.SVC(kernel = 'linear',C = 1)\n",
    "scores = cross_val_score(clf,x,y,cv = 5)\n",
    "print(\"Accuracy using linear model is \",scores.mean())"
   ]
  },
  {
   "cell_type": "code",
   "execution_count": 15,
   "id": "b6154487",
   "metadata": {},
   "outputs": [
    {
     "name": "stdout",
     "output_type": "stream",
     "text": [
      "Confusion matrix using linear model :\n",
      "  [[11  0  0]\n",
      " [ 0 13  0]\n",
      " [ 0  0  6]]\n"
     ]
    }
   ],
   "source": [
    "from sklearn.metrics import confusion_matrix\n",
    "clf = svm.SVC(kernel = 'linear',C = 1)\n",
    "y_pred = clf.fit(x_train,y_train).predict(x_test)\n",
    "cm = confusion_matrix(y_test,y_pred)\n",
    "print(\"Confusion matrix using linear model :\\n \",cm)"
   ]
  },
  {
   "cell_type": "code",
   "execution_count": 16,
   "id": "9d1ef9a8",
   "metadata": {},
   "outputs": [
    {
     "name": "stdout",
     "output_type": "stream",
     "text": [
      "f1_score :  1.0\n",
      "precision_score :  1.0\n",
      "recall_score :  1.0\n",
      "Classification_report using rbf model :\n",
      "               precision    recall  f1-score   support\n",
      "\n",
      "           0       1.00      1.00      1.00        11\n",
      "           1       1.00      1.00      1.00        13\n",
      "           2       1.00      1.00      1.00         6\n",
      "\n",
      "    accuracy                           1.00        30\n",
      "   macro avg       1.00      1.00      1.00        30\n",
      "weighted avg       1.00      1.00      1.00        30\n",
      "\n"
     ]
    }
   ],
   "source": [
    "from sklearn.metrics import precision_score,recall_score,classification_report,accuracy_score,f1_score\n",
    "print(\"f1_score : \",f1_score(y_test,y_pred,average = \"macro\"))\n",
    "print(\"precision_score : \",precision_score(y_test,y_pred,average = \"macro\"))\n",
    "print(\"recall_score : \",recall_score(y_test,y_pred,average = \"macro\"))\n",
    "print(\"Classification_report using rbf model :\\n\",classification_report(y_test,y_pred))"
   ]
  },
  {
   "cell_type": "code",
   "execution_count": 17,
   "id": "969c7da8",
   "metadata": {},
   "outputs": [
    {
     "name": "stdout",
     "output_type": "stream",
     "text": [
      "Accuracy using rbf model is   0.9666666666666666\n"
     ]
    }
   ],
   "source": [
    "from sklearn import svm\n",
    "from sklearn.model_selection import cross_val_score\n",
    "clf = svm.SVC(kernel = 'rbf',C = 1)\n",
    "scores = cross_val_score(clf,x,y,cv = 5)\n",
    "print(\"Accuracy using rbf model is  \",scores.mean())"
   ]
  },
  {
   "cell_type": "code",
   "execution_count": 18,
   "id": "1f7c60a9",
   "metadata": {},
   "outputs": [
    {
     "name": "stdout",
     "output_type": "stream",
     "text": [
      "Confusion matrix using rbf model:\n",
      "  [[11  0  0]\n",
      " [ 0 12  1]\n",
      " [ 0  0  6]]\n"
     ]
    }
   ],
   "source": [
    "from sklearn.metrics import confusion_matrix\n",
    "clf = svm.SVC(kernel = 'rbf',C = 1)\n",
    "y_pred = clf.fit(x_train,y_train).predict(x_test)\n",
    "cm = confusion_matrix(y_test,y_pred)\n",
    "print(\"Confusion matrix using rbf model:\\n \",cm)"
   ]
  },
  {
   "cell_type": "code",
   "execution_count": 19,
   "id": "0cffb783",
   "metadata": {},
   "outputs": [
    {
     "name": "stdout",
     "output_type": "stream",
     "text": [
      "f1_score :  0.9610256410256409\n",
      "precision_score :  0.9523809523809524\n",
      "recall_score :  0.9743589743589745\n",
      "Classification_report using rbf model :\n",
      "               precision    recall  f1-score   support\n",
      "\n",
      "           0       1.00      1.00      1.00        11\n",
      "           1       1.00      0.92      0.96        13\n",
      "           2       0.86      1.00      0.92         6\n",
      "\n",
      "    accuracy                           0.97        30\n",
      "   macro avg       0.95      0.97      0.96        30\n",
      "weighted avg       0.97      0.97      0.97        30\n",
      "\n"
     ]
    }
   ],
   "source": [
    "from sklearn.metrics import precision_score,recall_score,classification_report,accuracy_score,f1_score\n",
    "print(\"f1_score : \",f1_score(y_test,y_pred,average = \"macro\"))\n",
    "print(\"precision_score : \",precision_score(y_test,y_pred,average = \"macro\"))\n",
    "print(\"recall_score : \",recall_score(y_test,y_pred,average = \"macro\"))\n",
    "print(\"Classification_report using rbf model :\\n\",classification_report(y_test,y_pred))"
   ]
  },
  {
   "cell_type": "code",
   "execution_count": 20,
   "id": "392a87d0",
   "metadata": {},
   "outputs": [
    {
     "name": "stdout",
     "output_type": "stream",
     "text": [
      "Accuracy using ploy model is  0.9800000000000001\n"
     ]
    }
   ],
   "source": [
    "from sklearn import svm\n",
    "from sklearn.model_selection import cross_val_score\n",
    "clf = svm.SVC(kernel = 'poly',C = 1)\n",
    "scores = cross_val_score(clf,x,y,cv = 5)\n",
    "print(\"Accuracy using ploy model is \",scores.mean())"
   ]
  },
  {
   "cell_type": "code",
   "execution_count": 21,
   "id": "780810e3",
   "metadata": {},
   "outputs": [
    {
     "name": "stdout",
     "output_type": "stream",
     "text": [
      "Confusion matrix using poly model:\n",
      "  [[11  0  0]\n",
      " [ 0 12  1]\n",
      " [ 0  0  6]]\n"
     ]
    }
   ],
   "source": [
    "from sklearn.metrics import confusion_matrix\n",
    "clf = svm.SVC(kernel = 'poly',C = 1)\n",
    "y_pred = clf.fit(x_train,y_train).predict(x_test)\n",
    "cm = confusion_matrix(y_test,y_pred)\n",
    "print(\"Confusion matrix using poly model:\\n \",cm)"
   ]
  },
  {
   "cell_type": "code",
   "execution_count": 22,
   "id": "97587b38",
   "metadata": {},
   "outputs": [
    {
     "name": "stdout",
     "output_type": "stream",
     "text": [
      "f1_score :  0.9610256410256409\n",
      "precision_score :  0.9523809523809524\n",
      "recall_score :  0.9743589743589745\n",
      "Classification_report using poly model :\n",
      "               precision    recall  f1-score   support\n",
      "\n",
      "           0       1.00      1.00      1.00        11\n",
      "           1       1.00      0.92      0.96        13\n",
      "           2       0.86      1.00      0.92         6\n",
      "\n",
      "    accuracy                           0.97        30\n",
      "   macro avg       0.95      0.97      0.96        30\n",
      "weighted avg       0.97      0.97      0.97        30\n",
      "\n"
     ]
    }
   ],
   "source": [
    "from sklearn.metrics import precision_score,recall_score,classification_report,accuracy_score,f1_score\n",
    "print(\"f1_score : \",f1_score(y_test,y_pred,average = \"macro\"))\n",
    "print(\"precision_score : \",precision_score(y_test,y_pred,average = \"macro\"))\n",
    "print(\"recall_score : \",recall_score(y_test,y_pred,average = \"macro\"))\n",
    "print(\"Classification_report using poly model :\\n\",classification_report(y_test,y_pred))"
   ]
  },
  {
   "cell_type": "code",
   "execution_count": 23,
   "id": "50aedb1a",
   "metadata": {},
   "outputs": [
    {
     "name": "stdout",
     "output_type": "stream",
     "text": [
      "Tuning model further using regularization and gamma parameters and trying to come up with highest accuracy\n",
      "\n",
      "Accuracy using Linear model :  0.8606600351476116\n"
     ]
    }
   ],
   "source": [
    "print(\"Tuning model further using regularization and gamma parameters and trying to come up with highest accuracy\\n\")\n",
    "from sklearn.svm import SVR\n",
    "svr_lin = SVR(kernel = 'linear',C = 100,gamma = 0.1,epsilon = .1)\n",
    "svr_lin.fit(x_train,y_train)\n",
    "print(\"Accuracy using Linear model : \",svr_lin.score(x_test,y_test))"
   ]
  },
  {
   "cell_type": "code",
   "execution_count": 24,
   "id": "8472e75a",
   "metadata": {},
   "outputs": [
    {
     "name": "stdout",
     "output_type": "stream",
     "text": [
      "Accuracy using rbf model :  0.9549470961865903\n"
     ]
    }
   ],
   "source": [
    "svr_rbf = SVR(kernel = 'rbf',C = 100,gamma = 'auto')\n",
    "svr_rbf.fit(x_train,y_train)\n",
    "print(\"Accuracy using rbf model : \",svr_rbf.score(x_test,y_test))"
   ]
  },
  {
   "cell_type": "code",
   "execution_count": 25,
   "id": "ca9082a8",
   "metadata": {},
   "outputs": [
    {
     "name": "stdout",
     "output_type": "stream",
     "text": [
      "Accuracy using poly model :  0.8976124786757438\n"
     ]
    }
   ],
   "source": [
    "svr_poly = SVR(kernel = 'poly',C = 100,gamma = 'auto')\n",
    "svr_poly.fit(x_train,y_train)\n",
    "print(\"Accuracy using poly model : \",svr_poly.score(x_test,y_test))"
   ]
  },
  {
   "cell_type": "markdown",
   "id": "69968d93",
   "metadata": {},
   "source": [
    "The highest accuracy seems to be obtained using rbf model which is approximately equal to 95%\n"
   ]
  },
  {
   "cell_type": "code",
   "execution_count": null,
   "id": "a953b967",
   "metadata": {},
   "outputs": [],
   "source": []
  }
 ],
 "metadata": {
  "kernelspec": {
   "display_name": "Python 3 (ipykernel)",
   "language": "python",
   "name": "python3"
  },
  "language_info": {
   "codemirror_mode": {
    "name": "ipython",
    "version": 3
   },
   "file_extension": ".py",
   "mimetype": "text/x-python",
   "name": "python",
   "nbconvert_exporter": "python",
   "pygments_lexer": "ipython3",
   "version": "3.9.12"
  }
 },
 "nbformat": 4,
 "nbformat_minor": 5
}
